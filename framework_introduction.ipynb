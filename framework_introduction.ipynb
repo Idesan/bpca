{
 "cells": [
  {
   "cell_type": "markdown",
   "metadata": {},
   "source": [
    "# Adaptation-Classification Framework\n",
    "\n",
    "## Introduction\n",
    "\n",
    "The primary objective of [Kitamoto et al. 23] is to identify primary aldosteronism patients who could benefit from certain surgical treatment. From a machine learning perspective, this involves a classification problem to categorize a patient into the surgical track, medication track, or another relevant category. While this may seem like a straightforward classification problem, challenges emerge when multiple clinical institutions are involved, as outlined below.\n",
    "\n",
    "In a previous study [Kitamoto et al. 20], it was suggested that certain clinical markers effectively distinguish individuals who may benefit from surgical intervention. Some of these markers are technically demanding and can be challenging to obtain due to resource constraints within clinical institutions and other various reasons. Consequently, in a multicenter setting, it is common for datasets collected at different centers to have numerous missing entries in a center-specific manner. This situation is a common real-world challenge when a novel clinical approach is generalized from one center to another.\n",
    "\n",
    "To tackle this challenge, Kitamoto et al. (2023) introduced an approach called the Adaptation-Classification Framework. The overall concept is straightforward: Using a well-established dataset published in [Kitamoto et al. 20], two models are trained:\n",
    "- Data adaptation model,\n",
    "- Patient classification model.\n",
    "\n",
    "When applying the classification model to unseen patient data collected at another center, the data is first \"normalized\" using the data adaptation model. This involves imputing missing entries that may follow a center-specific pattern. After filling out the missing entries, the classification model is applied to these unseen patients.\n",
    "\n",
    "Ideally, the task should be formalized as a multi-task learning problem, where each center has its own classification model. However, it is unrealistic and even risky to allow every center to customize its own classifier using its dataset due to potential dataset bias and a lack of a sufficient number of samples. Instead, the same classification model is reused after filling out the missing entries using the adaptation model. Our approach can be considered a conservative form of **transfer learning** where knowledge transfer only occurs in the data imputation stage, compelling the dataset to share the same principal subspace as the reference dataset.\n",
    "\n",
    " * [Kitamoto et al. 23] Kitamoto, T., Idé, T., Tezuka, Y. et al., \"Identifying primary aldosteronism patients who require adrenal venous sampling: a multi-center study,\" Scientific Reports 13, 21722 (2023) [[link](https://doi.org/10.1038/s41598-023-47967-z)].\n",
    " * [Kitamoto et al. 20] Kitamoto T., et al., \"Precise Mapping of Intra-Adrenal Aldosterone Activities Provides a Novel Surgical Strategy for Primary Aldosteronism,\" Hypertension, 2020;76(3):976-984 [[link](https://www.ahajournals.org/doi/10.1161/HYPERTENSIONAHA.119.14341)]. \n"
   ]
  },
  {
   "attachments": {
    "image.png": {
     "image/png": "[encoded data removed]"
    }
   },
   "cell_type": "markdown",
   "metadata": {},
   "source": [
    "## Data assumption\n",
    "\n",
    "The Adaptation-Classification Framework operates within the context of multiple datasets comprising clinical markers from patients independently collected across various medical institutions. Two key datasets are involved: the reference dataset, a well-established collection presented in [Kitamoto et al. 20], and the multicenter cohort. The reference dataset is employed as the training set, while the multicenter cohort serves as both the validation and test datasets.\n",
    "\n",
    "![image.png](attachment:image.png)\n"
   ]
  },
  {
   "cell_type": "markdown",
   "metadata": {},
   "source": [
    "## Classification setting\n",
    "\n",
    "In [Kitamoto et al. 23], primary aldosteronism was originally to be categorized into three subtypes:\n",
    "- Surgery-track\n",
    "- AVS-recommended\n",
    "- Medication-track\n",
    "\n",
    "Based on a descriptive analysis illustrated in Figure 2 of the paper, however, the final problem was formalized as two **binary** classification tasks:\n",
    "\n",
    "1. Classifying \"surgery-track\" patients from the others.\n",
    "1. Classifying \"medication-track\" patients from the others.\n",
    "\n",
    "Utilizing 36 clinical markers as predictor variables, the objective is to train both a (1) data adaptation model and (2) classification model."
   ]
  },
  {
   "cell_type": "markdown",
   "metadata": {},
   "source": [
    "## Preprocess\n",
    "\n",
    "Common preprocessing steps for both the training and test/validation data include:\n",
    "- Checking the consistency of variable names and their calibration.\n",
    "- One-hot encoding of categorical variables.\n",
    "- Log-transformation of variables with skewed distributions so the distributions become closer to the Gaussian.\n",
    "- Standardization of each variable for zero mean and unit variance.\n",
    "\n",
    "### Log transformation\n",
    "\n",
    "Assuming `X0` is a Pandas DataFrame where rows represent patients, the log-transformation of the `ii`-th variable can be implemented as follows in Python:\n",
    "```python\n",
    "\tX[:,ii] = np.log(1 + X0.iloc[:,ii])\n",
    "``` \n",
    "This operation produces a numpy array `X`. \n",
    "\n",
    "### Standardization\n",
    "\n",
    "Standardization is performed using the following Python code:\n",
    "```python\n",
    "\tX = (X - X.mean(axis=0))/X.std(axis=0)\n",
    "```\n"
   ]
  },
  {
   "cell_type": "markdown",
   "metadata": {},
   "source": [
    "## Learning adaptation model\n",
    "\n",
    "The adaptation model is learned by applying [our BPCA (Bayesian principal component analysis)-based algorithm](https://github.com/Idesan/bpca/blob/main/bmpca_impute.ipynb) to the training data. In Python, the implementation is as follows:\n",
    "```python\n",
    "import bpca_impute.bpca_impute as bi\n",
    "X = Xtrain.T # each sample (patient) in the columns, not rows. \n",
    "X_filled, param = bi.impute_bpca_ard(X)\n",
    "W = param.get('W')\n",
    "mu = param.get('mu')\n",
    "```\n",
    "\n",
    "Note that the data matrix in `bpca_impute()` is defined as colum-based, meaning that each *column* represents a patient. "
   ]
  },
  {
   "cell_type": "markdown",
   "metadata": {},
   "source": [
    "## Learning classification model\n",
    "\n",
    "Training a logistic regression model is straightforward in Python using `sklearn` or any other machine learning library. Here's an example Python implementation with `sklearn`:\n",
    "\n",
    "```python\n",
    "from sklearn.linear_model import LogisticRegression\n",
    "\n",
    "# Example parameters\n",
    "penalty = 'l2'\n",
    "C = 4 \n",
    "\n",
    "# training\n",
    "clf = LogisticRegression(penalty=penalty,C=C, class_weight='balanced')\n",
    "clf.fit(Xtrain, ytrain_binary)\n",
    "\n",
    "# Logistic regression coefficients\n",
    "coefs = clf.coef_[0]\n",
    "```"
   ]
  },
  {
   "cell_type": "markdown",
   "metadata": {},
   "source": [
    "## Applying the adaptation model\n",
    "\n",
    "Now that we have the classification model based on the training data, let's consider how to apply the model to the test data. The first step is to adapt the test data to the source domain (i.e., the training data). The parameters `W,mu` learned from the training data are used to impute the test data:\n",
    "\n",
    "```python\n",
    "Xtest_imputed, _ = bi.impute_transfer(Xtest, W=W, mu=mu)\n",
    "```\n",
    "For more details, please refer to another [notebook](https://github.com/Idesan/bpca/blob/main/bmpca_impute.ipynb)."
   ]
  },
  {
   "cell_type": "markdown",
   "metadata": {},
   "source": [
    "## Applying the classification model\n",
    "\n",
    "Given the imputed test data, the model's prediction can be computed simply by:\n",
    "\n",
    "```python\n",
    "ypred = clf.predict(Xtest_imputed)\n",
    "```"
   ]
  }
 ],
 "metadata": {
  "language_info": {
   "name": "python"
  }
 },
 "nbformat": 4,
 "nbformat_minor": 2
}
