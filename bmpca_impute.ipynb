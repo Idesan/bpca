{
 "cells": [
  {
   "cell_type": "markdown",
   "metadata": {},
   "source": [
    "# bpca_impute: Data Imputation with Bayesian Principal Component Analysis\n",
    "\n",
    "**Tsuyoshi Ide**, tide@us.ibm.com, IBM Thomas J. Watson Research Center\n",
    "\n",
    "January 1, 2022\n",
    "\n",
    "This notebook explains `bmpca_impute`, an implementation of the data imputation method proposed in:\n",
    "\n",
    "> Kitamoto, T., Idé, T., Tezuka, Y. et al., \"Identifying primary aldosteronism patients who require adrenal venous sampling: a multi-center study,\" Scientific Reports 13, 21722 (2023) [[link](https://doi.org/10.1038/s41598-023-47967-z)].\n",
    "\n",
    "There are  two importable Python modules in this `bmpca` repository. `bpca_impute` contains the core components for Bayesian Principal Component Analysis (BPCA) for unsupervised data imputation while `bpca_impute_util` contains a few utility functions for visualizations. \n",
    "\n",
    "- `bpca_impute`\n",
    "- `bpca_impute_util`\n",
    "\n",
    "The core module `bpca_impute`, which depends only on numpy, includes the following functions. \n",
    "\n",
    "- Simple model assuming an isotropic latent space\n",
    "    - `em_pca`:\n",
    "        - Finds principal components for data matrices with no missing entries based on the noiseless probabilistic PCA model proposed by Sam Roweis, \"EM algorithms for PCA and SPCA.\" Advances in neural information processing systems (1998): 626-632. This function is for comparison purposes. \n",
    "    - `impute_em_pca`: \n",
    "        - Incorporates the functionality of estimating the value of missing entries into `em_pca`. The missing entries are treated as extra latent variables and are point-estimated via maximum likelihood. \n",
    "- Advanced model that can handle anisotropy over latent dimensions.\n",
    "    - `impute_bpca`: \n",
    "        - Is an extension of `impute_em_pca` so that it can handle different variances for latent dimensions. The variance goes to zero if the corresponding latent dimension is considered to be irrelevant to the data; thereby the dimensionality of the latent space can be chosen automatically. In such a case, however, there is no straightforward way of computing the log-likelihood. Convergence is monitored with the projection matrix $\\mathsf{W}$ and imputed values instead of the log-likelihood. \n",
    "    - `impute_bpca_ard`:\n",
    "        - Uses the same anisotropic latent model as `impute_bpca`, but automatically removes irrelevant latent dimensions so the log-likelihood can be monitored. Note that there are numerically subtle issues here. The value of the likelihood may not be very accurate in some cases. If the behavior of likelihood looks weird, increase `eps`, which the observation variance. \n",
    "- Other functions\n",
    "    - `impute_transfer`: \n",
    "        - Is used in the transfer learning setting, where you are to impute a test dataset based on a PCA model learned on a training dataset. \n",
    "    - `recover_components_em_pca`:\n",
    "        - Recovers principal components as standard unit orthogonal vectors from $\\mathsf{W}$ and $\\mathbf{\\mu}$. While the column space of $\\mathsf{W}$ spans the principal subspace, the column vectors of it are not the same as the eigenvectors in general. \n"
   ]
  },
  {
   "cell_type": "markdown",
   "metadata": {},
   "source": [
    "## Background\n",
    "\n",
    "Unsupervised data imputation approaches are roughly categorized into those based on the notion of the neighborhood and those based on low-rank representations of the data matrix. Principal component analysis (PCA) is one of the most popular data imputation methods in the second category. In fact, modern auto-encoder-based imputation approaches can be viewed as a nonlinear generalization of it, and probabilistic PCA-based approaches are often preferred to deep learning approaches for their simplicity and interpretability. PCA-based imputation methods occupy a unique position in data imputation approaches in that it systematically allows a probabilistic extension that enables the estimation of uncertainty of imputed values. \n",
    "\n",
    "The theoretical foundation of probabilistic PCA (PPCA)-based imputation was laid by Oba et al.(2003):\n",
    "\n",
    "> Shigeyuki Oba, Masa-aki Sato, Ichiro Takemasa, Morito Monden, Ken-ichi Matsubara, Shin Ishii, A Bayesian missing value estimation method for gene expression profile data, Bioinformatics, Volume 19, Issue 16, 1 November 2003, Pages 2088–2096. [[link](https://academic.oup.com/bioinformatics/article/19/16/2088/242445)]\n",
    "\n",
    "In the bioinformatics domain, their approach is known as one of the most efficient imputation methods. For a comparative study, see, e.g., [Brock et al. 2007].\n",
    "\n",
    "> Brock, G.N., Shaffer, J.R., Blakesley, R.E. et al. Which missing value imputation method to use in expression profiles: a comparative study and two selection schemes. BMC Bioinformatics 9, 12 (2008). [[link](https://bmcbioinformatics.biomedcentral.com/articles/10.1186/1471-2105-9-12)]\n",
    "\n",
    "Although their method, together with their Matlab implementation, has enjoyed popularity especially in bioinformatics, it has been suggested that it may have limitations when applying to other domains. In our medical applications, we are aware the following limitations : \n",
    "\n",
    "1. No established way of data imputation in the **transfer learning** setting. This is particularly important in medical applications, where you often need to make a medical decision based on a relatively small test dataset.  \n",
    "1. Limited consume-ability of the model. In particular, the choice of the dimensionality of the latent space is a major issue of the factorization-based imputation methods. The standard isotropic models cannot determine the dimensionality, while fully Bayesian methods often require Monte Carlo sampling or give too much information that is hard-to-digest to most of the end-users. \n",
    "1. Limited choice of Python implementation. \n"
   ]
  },
  {
   "cell_type": "markdown",
   "metadata": {},
   "source": [
    "## Model\n",
    "\n",
    "Suppose that you have a diagnosis support tool $y=f(\\mathbf{x})$, where $y$ can be whether to perform a surgery or whether or not a patient have a cancer. The predictor $\\mathbf{x}$ is a set of attributes of a patient. To compute $y$, you will need to have *all* the attributes. But what if there are only a few missing entries? As most of the information is in place, you may think that the system should give at least some suggestion. This is exactly where a data imputation tool comes in handy. By filling in a likely value to each missing value, we can move on to the next step somehow. The question is how trustworthy the filled value would be. \n",
    "\n",
    "The proposed approach performs what they call the MAP (maximum a posterior) estimation for missing entries, based on a Bayesian principal component analysis model provided below. This means that the filled values is the most likely estimate given observed data under potential uncertainty. Basically, this is the best we could do. \n",
    "\n",
    "The proposed anisotropic latent space model employs the following generative model:\n",
    "$$\n",
    "p_\\mathrm{obs}(\\mathbf{x}\\mid \\mathbf{z}) = \n",
    "    \\mathcal{N}(\\mathbf{x} \\mid \\mathsf{W}\\mathbf{z}+\\mathbf{\\mu},\\epsilon \\mathsf{I}_M)\n",
    "$$ \n",
    "$$\n",
    "p_\\mathrm{prior1}(\\mathbf{z}) = \\mathcal{N}(\\mathbf{z} \\mid \\mathbf{0},\\mathsf{I}_d)\n",
    "$$\n",
    "$$\n",
    "p_\\mathrm{prior2}(\\mathsf{W}) = \\prod_{l=1}^d \\mathcal{N}(\\mathbf{w}_l \\mid \\mathbf{0}, \\alpha_l  \\mathsf{I}_M)\n",
    "$$\n",
    "Here, in general, $\\mathcal{N}(\\mathbf{x} \\mid \\mathbf{m},\\mathsf{\\Sigma})$ denotes the Gaussian distribution for $\\mathbf{x}$ with $\\mathbf{m}$ being the and $\\mathsf{\\Sigma}$ being the covariance matrix. \n",
    "\n",
    "The isotropic model, on the other hand, omits $p_\\mathrm{prior2}(\\mathsf{W})$ and does not learn $\\{\\alpha_l\\}$. \n",
    "\n",
    "The dimensionality of the variables and the model parameters are defined as:\n",
    "\n",
    "- Observed variable: $\\mathbf{x} \\in \\mathbb{R}^M$\n",
    "- Latent variable: $\\mathbf{z} \\in \\mathbb{R}^d$ and missing entries in $\\mathbf{x}$\n",
    "- Projection matrix, whose column space spans the principal subspace: $\\mathsf{W}=[\\mathbf{w}_1, \\ldots, \\mathbf{w}_d] \\in \\mathbb{R}^{M\\times d}$\n",
    "\n",
    "In the limit of $\\epsilon\\rightarrow 0$, the above model provides an interesting and useful compromise of the fully probabilistic model. The posterior distribution for $\\mathsf{W},\\mathbf{z}$ becomes Dirac's delta function and thus Bayesian inference is more like point estimation. In addition, by point-estimating $\\{\\alpha_l\\}$ by maximizing the log likelihood, one can automatically determine the dimensionality of the latent space. This is one realization of automatic relevance determination (ARD) in Bayesian learning. For general information, see  C. Bishop, \"Pattern Recognition and Machine Learning,\" Springer, Chap.12.\n",
    "\n"
   ]
  },
  {
   "cell_type": "markdown",
   "metadata": {},
   "source": [
    "## Demo 1: Data Imputation of single dataset\n"
   ]
  },
  {
   "cell_type": "markdown",
   "metadata": {},
   "source": [
    "### Algorithm\n",
    "\n",
    "Suppose that we are given a dataset $\\mathcal{D}_{\\mathrm{train}}\\triangleq \\{\\mathbf{x}^{(1)}, \\ldots, \\mathbf{x}^{(N)} \\}$, where some of the samples $\\{ \\mathbf{x}^{(n)}\\}$ contain missing entries. The model parameters of the anisotropic model are learned as follows.\n",
    "\n",
    "- Initialization: $\\mathbf{\\mu}$ and missing entries are set to the sample mean. $\\mathsf{W}$ is initialized via QR factorization of the data matrix (see the code).\n",
    "- Repeat until convergence:\n",
    "    - $\\mathsf{Z} \\leftarrow [\\epsilon \\mathsf{I}_d +\\mathsf{W}^\\top\\mathsf{W}]^{-1} \\mathsf{W}^\\top \\mathsf{\\Phi}$\n",
    "    - $\\mathsf{W} \\leftarrow \\mathsf{\\Phi} \\mathsf{Z}^\\top \\mathsf{A} [\\epsilon\\mathsf{I}_d + \\mathsf{Z}\\mathsf{Z}^\\top \\mathsf{A}]^{-1} $\n",
    "    - $\\mathbf{\\mu} \\leftarrow \\frac{1}{N}(\\mathsf{X} - \\mathsf{W}\\mathsf{Z}) \\mathbf{1}_N$\n",
    "    - $ \\alpha_i = \\frac{1}{M} \\|\\mathbf{w}_i \\|^2$ for $i=1,\\ldots,d$\n",
    "    - $x^{(n)}_j = [\\mathsf{W} \\mathbf{z}^{(n)}+\\mathbf{\\mu}]_j \\quad (\\mathrm{missing \\ entries})$\n",
    "- Output: $\\mathsf{X}, \\mathsf{W}, \\mathsf{Z}, \\mathsf{A}, \\mathbf{\\mu}$\n",
    "\n",
    "Here, \n",
    "- $\\mathsf{X}\\triangleq [\\mathbf{x}^{(1)},\\ldots,\\mathbf{x}^{(N)}]$ \n",
    "- $\\mathsf{Z}\\triangleq [\\mathbf{z}^{(1)},\\ldots,\\mathbf{z}^{(N)}]$\n",
    "- $\\mathsf{\\Phi} \\triangleq [\\mathbf{x}^{(1)}-\\mathbf{\\mu}, \\ldots, \\mathbf{x}^{(N)}-\\mathbf{\\mu}]$\n",
    "- $\\mathsf{A} = \\mathrm{diag}(\\alpha_1, \\ldots, \\alpha_d)$ \n"
   ]
  },
  {
   "cell_type": "markdown",
   "metadata": {},
   "source": [
    "### Dataset\n",
    "\n",
    "We use basically the same data set as the one used in [Kitamoto et al. 22]. To protect patients' privacy, we removed personal attributes from the data, anonymized the variable names, and randomized the value and order of the patients/variables while keeping certain statistical properties.\n",
    "\n",
    "In the below, `df_tr` is a pandas DataFrame, where each row corresponds to one patient. The last eight variables were created via one-hot encoding of two categorical variables. There a many missing entries in the data. The function `show_missing_pattern_binary()` helps visualize the missing pattern."
   ]
  },
  {
   "cell_type": "code",
   "execution_count": 1,
   "metadata": {},
   "outputs": [],
   "source": [
    "%load_ext autoreload\n",
    "%autoreload 2"
   ]
  },
  {
   "cell_type": "code",
   "execution_count": 2,
   "metadata": {},
   "outputs": [
    {
     "name": "stdout",
     "output_type": "stream",
     "text": [
      "Wall time: 567 ms\n"
     ]
    },
    {
     "data": {
      "text/html": [
       "<div>\n",
       "<style scoped>\n",
       "    .dataframe tbody tr th:only-of-type {\n",
       "        vertical-align: middle;\n",
       "    }\n",
       "\n",
       "    .dataframe tbody tr th {\n",
       "        vertical-align: top;\n",
       "    }\n",
       "\n",
       "    .dataframe thead th {\n",
       "        text-align: right;\n",
       "    }\n",
       "</style>\n",
       "<table border=\"1\" class=\"dataframe\">\n",
       "  <thead>\n",
       "    <tr style=\"text-align: right;\">\n",
       "      <th></th>\n",
       "      <th>x1</th>\n",
       "      <th>x2</th>\n",
       "      <th>x3</th>\n",
       "      <th>x4</th>\n",
       "      <th>x5</th>\n",
       "      <th>x6</th>\n",
       "      <th>x7</th>\n",
       "      <th>x8</th>\n",
       "      <th>x9</th>\n",
       "      <th>x10</th>\n",
       "      <th>...</th>\n",
       "      <th>x26</th>\n",
       "      <th>x27</th>\n",
       "      <th>x29_A</th>\n",
       "      <th>x29_B</th>\n",
       "      <th>x29_C</th>\n",
       "      <th>x29_D</th>\n",
       "      <th>x30_A</th>\n",
       "      <th>x30_B</th>\n",
       "      <th>x30_C</th>\n",
       "      <th>x30_D</th>\n",
       "    </tr>\n",
       "  </thead>\n",
       "  <tbody>\n",
       "    <tr>\n",
       "      <th>0</th>\n",
       "      <td>0.448229</td>\n",
       "      <td>-0.649316</td>\n",
       "      <td>0.817186</td>\n",
       "      <td>0.460971</td>\n",
       "      <td>-0.067882</td>\n",
       "      <td>1.825301</td>\n",
       "      <td>-1.427961</td>\n",
       "      <td>0.846719</td>\n",
       "      <td>-0.758353</td>\n",
       "      <td>0.288376</td>\n",
       "      <td>...</td>\n",
       "      <td>-0.361824</td>\n",
       "      <td>0.515343</td>\n",
       "      <td>-0.636500</td>\n",
       "      <td>0.626428</td>\n",
       "      <td>-0.270361</td>\n",
       "      <td>-0.801655</td>\n",
       "      <td>1.657359</td>\n",
       "      <td>-0.707739</td>\n",
       "      <td>-0.084972</td>\n",
       "      <td>-0.801655</td>\n",
       "    </tr>\n",
       "    <tr>\n",
       "      <th>1</th>\n",
       "      <td>0.512760</td>\n",
       "      <td>0.063060</td>\n",
       "      <td>0.288533</td>\n",
       "      <td>0.063483</td>\n",
       "      <td>-1.119464</td>\n",
       "      <td>-0.545884</td>\n",
       "      <td>0.395598</td>\n",
       "      <td>1.029512</td>\n",
       "      <td>0.956802</td>\n",
       "      <td>-0.056576</td>\n",
       "      <td>...</td>\n",
       "      <td>-0.361824</td>\n",
       "      <td>-0.111082</td>\n",
       "      <td>0.931137</td>\n",
       "      <td>-0.203804</td>\n",
       "      <td>-0.270361</td>\n",
       "      <td>-0.801655</td>\n",
       "      <td>-0.601199</td>\n",
       "      <td>1.407868</td>\n",
       "      <td>-0.084972</td>\n",
       "      <td>-0.801655</td>\n",
       "    </tr>\n",
       "    <tr>\n",
       "      <th>2</th>\n",
       "      <td>-0.583018</td>\n",
       "      <td>0.535236</td>\n",
       "      <td>0.661652</td>\n",
       "      <td>0.589891</td>\n",
       "      <td>0.913594</td>\n",
       "      <td>-0.545884</td>\n",
       "      <td>-0.413345</td>\n",
       "      <td>0.452810</td>\n",
       "      <td>-0.758353</td>\n",
       "      <td>-0.943033</td>\n",
       "      <td>...</td>\n",
       "      <td>-0.777435</td>\n",
       "      <td>-0.688691</td>\n",
       "      <td>0.931137</td>\n",
       "      <td>-0.813177</td>\n",
       "      <td>-0.270361</td>\n",
       "      <td>1.242933</td>\n",
       "      <td>-0.601199</td>\n",
       "      <td>-0.707739</td>\n",
       "      <td>-0.084972</td>\n",
       "      <td>1.242933</td>\n",
       "    </tr>\n",
       "    <tr>\n",
       "      <th>3</th>\n",
       "      <td>-1.241035</td>\n",
       "      <td>-1.605883</td>\n",
       "      <td>0.234015</td>\n",
       "      <td>-1.147130</td>\n",
       "      <td>-0.768937</td>\n",
       "      <td>-0.545884</td>\n",
       "      <td>-0.710092</td>\n",
       "      <td>-0.949770</td>\n",
       "      <td>-0.758353</td>\n",
       "      <td>-0.137068</td>\n",
       "      <td>...</td>\n",
       "      <td>-0.777435</td>\n",
       "      <td>-0.594410</td>\n",
       "      <td>1.127092</td>\n",
       "      <td>-0.149986</td>\n",
       "      <td>-0.270361</td>\n",
       "      <td>1.242933</td>\n",
       "      <td>-0.601199</td>\n",
       "      <td>-0.707739</td>\n",
       "      <td>-0.084972</td>\n",
       "      <td>1.242933</td>\n",
       "    </tr>\n",
       "    <tr>\n",
       "      <th>4</th>\n",
       "      <td>-0.366251</td>\n",
       "      <td>-0.011533</td>\n",
       "      <td>-1.435082</td>\n",
       "      <td>0.654154</td>\n",
       "      <td>-0.278198</td>\n",
       "      <td>-0.545884</td>\n",
       "      <td>-0.115195</td>\n",
       "      <td>-0.538204</td>\n",
       "      <td>-0.758353</td>\n",
       "      <td>-0.261169</td>\n",
       "      <td>...</td>\n",
       "      <td>0.831299</td>\n",
       "      <td>-0.018276</td>\n",
       "      <td>0.147318</td>\n",
       "      <td>-0.097419</td>\n",
       "      <td>-0.270361</td>\n",
       "      <td>1.242933</td>\n",
       "      <td>-0.601199</td>\n",
       "      <td>-0.707739</td>\n",
       "      <td>-0.084972</td>\n",
       "      <td>1.242933</td>\n",
       "    </tr>\n",
       "    <tr>\n",
       "      <th>...</th>\n",
       "      <td>...</td>\n",
       "      <td>...</td>\n",
       "      <td>...</td>\n",
       "      <td>...</td>\n",
       "      <td>...</td>\n",
       "      <td>...</td>\n",
       "      <td>...</td>\n",
       "      <td>...</td>\n",
       "      <td>...</td>\n",
       "      <td>...</td>\n",
       "      <td>...</td>\n",
       "      <td>...</td>\n",
       "      <td>...</td>\n",
       "      <td>...</td>\n",
       "      <td>...</td>\n",
       "      <td>...</td>\n",
       "      <td>...</td>\n",
       "      <td>...</td>\n",
       "      <td>...</td>\n",
       "      <td>...</td>\n",
       "      <td>...</td>\n",
       "    </tr>\n",
       "    <tr>\n",
       "      <th>273</th>\n",
       "      <td>-0.256864</td>\n",
       "      <td>-0.621154</td>\n",
       "      <td>0.179183</td>\n",
       "      <td>0.989963</td>\n",
       "      <td>0.212540</td>\n",
       "      <td>1.825301</td>\n",
       "      <td>-0.830609</td>\n",
       "      <td>0.767022</td>\n",
       "      <td>-0.758353</td>\n",
       "      <td>-0.144652</td>\n",
       "      <td>...</td>\n",
       "      <td>-0.361824</td>\n",
       "      <td>0.541403</td>\n",
       "      <td>-1.028410</td>\n",
       "      <td>0.643746</td>\n",
       "      <td>-0.270361</td>\n",
       "      <td>-0.801655</td>\n",
       "      <td>1.657359</td>\n",
       "      <td>-0.707739</td>\n",
       "      <td>-0.084972</td>\n",
       "      <td>-0.801655</td>\n",
       "    </tr>\n",
       "    <tr>\n",
       "      <th>274</th>\n",
       "      <td>1.058621</td>\n",
       "      <td>0.512598</td>\n",
       "      <td>-1.632597</td>\n",
       "      <td>-0.951289</td>\n",
       "      <td>0.142434</td>\n",
       "      <td>-0.545884</td>\n",
       "      <td>0.152579</td>\n",
       "      <td>1.605883</td>\n",
       "      <td>1.181367</td>\n",
       "      <td>0.488724</td>\n",
       "      <td>...</td>\n",
       "      <td>-0.777435</td>\n",
       "      <td>0.504804</td>\n",
       "      <td>-0.440546</td>\n",
       "      <td>0.236496</td>\n",
       "      <td>-0.270361</td>\n",
       "      <td>-0.801655</td>\n",
       "      <td>-0.601199</td>\n",
       "      <td>1.407868</td>\n",
       "      <td>-0.084972</td>\n",
       "      <td>-0.801655</td>\n",
       "    </tr>\n",
       "    <tr>\n",
       "      <th>275</th>\n",
       "      <td>-0.366251</td>\n",
       "      <td>-1.029700</td>\n",
       "      <td>-0.156615</td>\n",
       "      <td>-0.362709</td>\n",
       "      <td>0.282645</td>\n",
       "      <td>-0.545884</td>\n",
       "      <td>0.733970</td>\n",
       "      <td>1.349523</td>\n",
       "      <td>0.323790</td>\n",
       "      <td>0.562782</td>\n",
       "      <td>...</td>\n",
       "      <td>-0.777435</td>\n",
       "      <td>0.214032</td>\n",
       "      <td>-0.636500</td>\n",
       "      <td>0.446870</td>\n",
       "      <td>3.685450</td>\n",
       "      <td>-0.801655</td>\n",
       "      <td>-0.601199</td>\n",
       "      <td>-0.707739</td>\n",
       "      <td>11.726193</td>\n",
       "      <td>-0.801655</td>\n",
       "    </tr>\n",
       "    <tr>\n",
       "      <th>276</th>\n",
       "      <td>NaN</td>\n",
       "      <td>NaN</td>\n",
       "      <td>0.234015</td>\n",
       "      <td>0.272060</td>\n",
       "      <td>-0.839042</td>\n",
       "      <td>-0.545884</td>\n",
       "      <td>NaN</td>\n",
       "      <td>NaN</td>\n",
       "      <td>-0.758353</td>\n",
       "      <td>NaN</td>\n",
       "      <td>...</td>\n",
       "      <td>NaN</td>\n",
       "      <td>NaN</td>\n",
       "      <td>-0.636500</td>\n",
       "      <td>NaN</td>\n",
       "      <td>-0.270361</td>\n",
       "      <td>1.242933</td>\n",
       "      <td>-0.601199</td>\n",
       "      <td>-0.707739</td>\n",
       "      <td>-0.084972</td>\n",
       "      <td>1.242933</td>\n",
       "    </tr>\n",
       "    <tr>\n",
       "      <th>277</th>\n",
       "      <td>-0.928189</td>\n",
       "      <td>0.374708</td>\n",
       "      <td>0.288533</td>\n",
       "      <td>-1.202990</td>\n",
       "      <td>-0.067882</td>\n",
       "      <td>-0.545884</td>\n",
       "      <td>-0.344108</td>\n",
       "      <td>-0.269539</td>\n",
       "      <td>1.497874</td>\n",
       "      <td>-1.329616</td>\n",
       "      <td>...</td>\n",
       "      <td>-0.560961</td>\n",
       "      <td>-1.299491</td>\n",
       "      <td>0.147318</td>\n",
       "      <td>-1.213772</td>\n",
       "      <td>-0.270361</td>\n",
       "      <td>-0.801655</td>\n",
       "      <td>-0.601199</td>\n",
       "      <td>1.407868</td>\n",
       "      <td>-0.084972</td>\n",
       "      <td>-0.801655</td>\n",
       "    </tr>\n",
       "  </tbody>\n",
       "</table>\n",
       "<p>278 rows × 35 columns</p>\n",
       "</div>"
      ],
      "text/plain": [
       "           x1        x2        x3        x4        x5        x6        x7  \\\n",
       "0    0.448229 -0.649316  0.817186  0.460971 -0.067882  1.825301 -1.427961   \n",
       "1    0.512760  0.063060  0.288533  0.063483 -1.119464 -0.545884  0.395598   \n",
       "2   -0.583018  0.535236  0.661652  0.589891  0.913594 -0.545884 -0.413345   \n",
       "3   -1.241035 -1.605883  0.234015 -1.147130 -0.768937 -0.545884 -0.710092   \n",
       "4   -0.366251 -0.011533 -1.435082  0.654154 -0.278198 -0.545884 -0.115195   \n",
       "..        ...       ...       ...       ...       ...       ...       ...   \n",
       "273 -0.256864 -0.621154  0.179183  0.989963  0.212540  1.825301 -0.830609   \n",
       "274  1.058621  0.512598 -1.632597 -0.951289  0.142434 -0.545884  0.152579   \n",
       "275 -0.366251 -1.029700 -0.156615 -0.362709  0.282645 -0.545884  0.733970   \n",
       "276       NaN       NaN  0.234015  0.272060 -0.839042 -0.545884       NaN   \n",
       "277 -0.928189  0.374708  0.288533 -1.202990 -0.067882 -0.545884 -0.344108   \n",
       "\n",
       "           x8        x9       x10  ...       x26       x27     x29_A  \\\n",
       "0    0.846719 -0.758353  0.288376  ... -0.361824  0.515343 -0.636500   \n",
       "1    1.029512  0.956802 -0.056576  ... -0.361824 -0.111082  0.931137   \n",
       "2    0.452810 -0.758353 -0.943033  ... -0.777435 -0.688691  0.931137   \n",
       "3   -0.949770 -0.758353 -0.137068  ... -0.777435 -0.594410  1.127092   \n",
       "4   -0.538204 -0.758353 -0.261169  ...  0.831299 -0.018276  0.147318   \n",
       "..        ...       ...       ...  ...       ...       ...       ...   \n",
       "273  0.767022 -0.758353 -0.144652  ... -0.361824  0.541403 -1.028410   \n",
       "274  1.605883  1.181367  0.488724  ... -0.777435  0.504804 -0.440546   \n",
       "275  1.349523  0.323790  0.562782  ... -0.777435  0.214032 -0.636500   \n",
       "276       NaN -0.758353       NaN  ...       NaN       NaN -0.636500   \n",
       "277 -0.269539  1.497874 -1.329616  ... -0.560961 -1.299491  0.147318   \n",
       "\n",
       "        x29_B     x29_C     x29_D     x30_A     x30_B      x30_C     x30_D  \n",
       "0    0.626428 -0.270361 -0.801655  1.657359 -0.707739  -0.084972 -0.801655  \n",
       "1   -0.203804 -0.270361 -0.801655 -0.601199  1.407868  -0.084972 -0.801655  \n",
       "2   -0.813177 -0.270361  1.242933 -0.601199 -0.707739  -0.084972  1.242933  \n",
       "3   -0.149986 -0.270361  1.242933 -0.601199 -0.707739  -0.084972  1.242933  \n",
       "4   -0.097419 -0.270361  1.242933 -0.601199 -0.707739  -0.084972  1.242933  \n",
       "..        ...       ...       ...       ...       ...        ...       ...  \n",
       "273  0.643746 -0.270361 -0.801655  1.657359 -0.707739  -0.084972 -0.801655  \n",
       "274  0.236496 -0.270361 -0.801655 -0.601199  1.407868  -0.084972 -0.801655  \n",
       "275  0.446870  3.685450 -0.801655 -0.601199 -0.707739  11.726193 -0.801655  \n",
       "276       NaN -0.270361  1.242933 -0.601199 -0.707739  -0.084972  1.242933  \n",
       "277 -1.213772 -0.270361 -0.801655 -0.601199  1.407868  -0.084972 -0.801655  \n",
       "\n",
       "[278 rows x 35 columns]"
      ]
     },
     "execution_count": 2,
     "metadata": {},
     "output_type": "execute_result"
    }
   ],
   "source": [
    "%%time\n",
    "import pandas as pd\n",
    "df_tr = pd.read_csv( './data/Xtr.csv')\n",
    "df_tr"
   ]
  },
  {
   "cell_type": "code",
   "execution_count": 3,
   "metadata": {},
   "outputs": [
    {
     "name": "stdout",
     "output_type": "stream",
     "text": [
      "Wall time: 1.41 s\n"
     ]
    },
    {
     "data": {
      "image/png": "[encoded data removed]",
      "text/plain": [
       "<Figure size 576x576 with 1 Axes>"
      ]
     },
     "metadata": {},
     "output_type": "display_data"
    }
   ],
   "source": [
    "%%time\n",
    "import bpca_impute.bpca_impute_util as util\n",
    "_,_ = util.show_missing_pattern_binary(df_tr,figsize=(8,8))"
   ]
  },
  {
   "cell_type": "markdown",
   "metadata": {},
   "source": [
    "### Performing data imputation\n",
    "\n",
    "In this demo, we first use `impute_bpca()` for imputation. The only non-optional input is a data matrix as a 2D Numpy array, where the columns correspond to the samples. The function returns an imputed data matrix `X_filled` and a dictionary of the model parameters:\n",
    "\n",
    "- `W`: projection matrix.\n",
    "- `Z`: $[\\mathbf{z}^{(1)}, \\ldots, \\mathbf{z}^{(N)}]$\n",
    "- `Adiag`: $[\\alpha_1, \\ldots, \\alpha_d]$\n",
    "- `err_X`: Root mean square error of the missing entries, compared to that of the previous iteration round. Let $\\mathbf{g}$ a vector of the values of the missing entries. Then, this quantity stores the following quantity in each iteration round:\n",
    "    $$\n",
    "    \\mathrm{err\\_X} = \\frac{\\|\\mathbf{g} -\\mathbf{g}_{\\mathrm{previous}} \\|}{\\|\\mathbf{g}\\|}\n",
    "    $$\n",
    "- `err_W`: The same as above with $\\mathbf{g}$ being the flattened version of $\\mathsf{W}$."
   ]
  },
  {
   "cell_type": "code",
   "execution_count": 4,
   "metadata": {},
   "outputs": [
    {
     "name": "stdout",
     "output_type": "stream",
     "text": [
      "#samples=278, obs.dim=35, latent dim=34\n",
      "  50: err_W=0.00030, err_x=0.02204\n",
      " 100: err_W=0.00024, err_x=0.01065\n",
      " 150: err_W=0.00021, err_x=0.00678\n",
      " 200: err_W=0.00019, err_x=0.00486\n",
      " 250: err_W=0.00017, err_x=0.00372\n",
      " 300: err_W=0.00016, err_x=0.00297\n",
      " 350: err_W=0.00015, err_x=0.00245\n",
      " 400: err_W=0.00014, err_x=0.00206\n",
      " 450: err_W=0.00014, err_x=0.00176\n",
      " 500: err_W=0.00013, err_x=0.00152\n",
      "Finished: itr=500, err_W=0.00013196352930219829, err_x=0.0015244658684773413\n",
      "Wall time: 1.24 s\n"
     ]
    }
   ],
   "source": [
    "%%time\n",
    "import bpca_impute.bpca_impute as bi\n",
    "X = df_tr.to_numpy().T\n",
    "X_filled, param = bi.impute_bpca(X)\n",
    "\n",
    "W = param.get('W')\n",
    "Z = param.get('Z')\n",
    "Adiag = param.get('Adiag')\n",
    "mu = param.get('mu')\n",
    "err_x = param.get('err_x')\n",
    "err_W = param.get('err_W')"
   ]
  },
  {
   "cell_type": "markdown",
   "metadata": {},
   "source": [
    "You can visualize `err_X, err_W` as a function of the iteration count to check the convergence behaviors as below."
   ]
  },
  {
   "cell_type": "code",
   "execution_count": 5,
   "metadata": {},
   "outputs": [
    {
     "data": {
      "image/png": "[encoded data removed]",
      "text/plain": [
       "<Figure size 432x216 with 2 Axes>"
      ]
     },
     "metadata": {},
     "output_type": "display_data"
    }
   ],
   "source": [
    "import matplotlib.pyplot as plt\n",
    "import seaborn as sb; sb.set()\n",
    "import numpy as np\n",
    "fig,ax = plt.subplots(1,2,figsize=(6,3),sharex=True)\n",
    "itr_sequence = 1+ np.arange(0,len(err_x)) \n",
    "itr0 = 20                         \n",
    "ax[0].plot(itr_sequence[itr0:],err_W[itr0:]) \n",
    "ax[0].set_title('relative error of W')\n",
    "ax[0].set_xlabel('iteration')\n",
    "ax[1].plot(itr_sequence[itr0:],err_x[itr0:]) \n",
    "ax[1].set_title('relative error of filled values')\n",
    "ax[1].set_xlabel('iteration')    \n",
    "fig.tight_layout()\n"
   ]
  },
  {
   "cell_type": "markdown",
   "metadata": {},
   "source": [
    "### Manually removing irrelevant latent dimensions\n",
    "\n",
    "In the below, we plot a bar chart for `Adiag`. We see that a few dimensions are very close to zero and thus redundant. If you want to explicitly remove those dimensions, use `shrink_latent_space()`:"
   ]
  },
  {
   "cell_type": "code",
   "execution_count": 6,
   "metadata": {},
   "outputs": [
    {
     "data": {
      "text/plain": [
       "Text(0, 0.5, 'variance of latent dimension')"
      ]
     },
     "execution_count": 6,
     "metadata": {},
     "output_type": "execute_result"
    },
    {
     "data": {
      "image/png": "[encoded data removed]",
      "text/plain": [
       "<Figure size 360x216 with 1 Axes>"
      ]
     },
     "metadata": {},
     "output_type": "display_data"
    }
   ],
   "source": [
    "import matplotlib.pyplot as plt\n",
    "import seaborn as sb; sb.set()\n",
    "fig,ax = plt.subplots(figsize=(5,3))\n",
    "ax.bar(np.arange(len(Adiag)),Adiag)\n",
    "ax.set_xlabel('index')\n",
    "ax.set_ylabel('variance of latent dimension')"
   ]
  },
  {
   "cell_type": "code",
   "execution_count": 7,
   "metadata": {},
   "outputs": [
    {
     "data": {
      "text/plain": [
       "Text(0, 0.5, 'variance of latent dimension')"
      ]
     },
     "execution_count": 7,
     "metadata": {},
     "output_type": "execute_result"
    },
    {
     "data": {
      "image/png": "[encoded data removed]",
      "text/plain": [
       "<Figure size 360x216 with 1 Axes>"
      ]
     },
     "metadata": {},
     "output_type": "display_data"
    }
   ],
   "source": [
    "W,Adiag,Z = bi.shrink_latent_space(W,Adiag,Z)\n",
    "\n",
    "fig,ax = plt.subplots(figsize=(5,3))\n",
    "ax.bar(np.arange(len(Adiag)),Adiag)\n",
    "ax.set_xlabel('index')\n",
    "ax.set_ylabel('variance of latent dimension')"
   ]
  },
  {
   "cell_type": "markdown",
   "metadata": {},
   "source": [
    "### Automatically removing irrelevant latent dimensions\n",
    "\n",
    "`impute_bpca_ard()` allows automatically removing irrelevant latent dimensions. In this case, it reduced the dimension from 34 to 32, as indicated by the following message.\n",
    "```\n",
    "itr=0:latent space got shrunk from 34 to 32\n",
    "```\n"
   ]
  },
  {
   "cell_type": "code",
   "execution_count": 8,
   "metadata": {},
   "outputs": [
    {
     "name": "stdout",
     "output_type": "stream",
     "text": [
      "#samples=278, obs.dim=35, initial latent dim=34\n",
      "\titr=0:latent space got shrunk from 34 to 32\n",
      "  50: err_L=0.00020, err_x=0.02204\n",
      " 100: err_L=0.00012, err_x=0.01065\n",
      " 150: err_L=0.00009, err_x=0.00678\n",
      " 200: err_L=0.00007, err_x=0.00486\n",
      " 250: err_L=0.00006, err_x=0.00372\n",
      " 300: err_L=0.00005, err_x=0.00297\n",
      " 350: err_L=0.00005, err_x=0.00245\n",
      " 400: err_L=0.00004, err_x=0.00206\n",
      " 450: err_L=0.00004, err_x=0.00176\n",
      " 500: err_L=0.00003, err_x=0.00152\n",
      "Finished ARD_BPCA:itr=500, err_L=3.440501484637637e-05, err_x=0.0015244658684691109\n",
      "Wall time: 702 ms\n"
     ]
    }
   ],
   "source": [
    "%%time\n",
    "X = df_tr.to_numpy().T\n",
    "X_filled, param = bi.impute_bpca_ard(X)\n",
    "W = param.get('W')\n",
    "Z = param.get('Z')\n",
    "Adiag = param.get('Adiag')\n",
    "mu = param.get('mu')\n",
    "err_x = param.get('err_x')\n",
    "err_W = param.get('err_W')"
   ]
  },
  {
   "cell_type": "code",
   "execution_count": 9,
   "metadata": {},
   "outputs": [
    {
     "data": {
      "image/png": "[encoded data removed]",
      "text/plain": [
       "<Figure size 648x216 with 3 Axes>"
      ]
     },
     "metadata": {},
     "output_type": "display_data"
    }
   ],
   "source": [
    "W = param.get('W')\n",
    "Adiag = param.get('Adiag')\n",
    "mu = param.get('mu')\n",
    "loglik = param.get('loglik')\n",
    "err_x = param.get('err_x')\n",
    "err_L = param.get('err_L')\n",
    "\n",
    "fig,ax = plt.subplots(1,3,figsize=(9,3),sharex=True)\n",
    "itr_sequence = 1+ np.arange(0,len(loglik)) \n",
    "itr0 = 20                         \n",
    "ax[0].plot(itr_sequence[itr0:],loglik[itr0:])\n",
    "ax[0].set_title('log likelihood (L)')\n",
    "ax[0].set_xlabel('iteration')\n",
    "ax[1].plot(itr_sequence[itr0:],err_L[itr0:]) \n",
    "ax[1].set_title('relative error of L')\n",
    "ax[1].set_xlabel('iteration')\n",
    "ax[2].plot(itr_sequence[itr0:],err_x[itr0:]) \n",
    "ax[2].set_title('relative error of filled values')\n",
    "ax[2].set_xlabel('iteration')    \n",
    "fig.tight_layout()\n",
    "    "
   ]
  },
  {
   "cell_type": "markdown",
   "metadata": {},
   "source": [
    "### Comparing with mean imputation \n",
    "\n",
    "We visually compare this approach with the naive mean-imputation approach. As shown, PPCA-based method seems to produce a smoother pattern. "
   ]
  },
  {
   "cell_type": "code",
   "execution_count": 10,
   "metadata": {},
   "outputs": [
    {
     "data": {
      "image/png": "[encoded data removed]",
      "text/plain": [
       "<Figure size 576x576 with 1 Axes>"
      ]
     },
     "metadata": {},
     "output_type": "display_data"
    },
    {
     "data": {
      "image/png": "[encoded data removed]",
      "text/plain": [
       "<Figure size 576x576 with 1 Axes>"
      ]
     },
     "metadata": {},
     "output_type": "display_data"
    }
   ],
   "source": [
    "import bpca_impute.bpca_impute_util as util\n",
    "mask = df_tr.isna()\n",
    "\n",
    "df_mean_filled = df_tr.fillna(df_tr.mean(axis=0))    \n",
    "_,_=util.show_missing_pattern(df_mean_filled, mask, title_string='mean',figsize=(8,8)) \n",
    "\n",
    "df_filled = pd.DataFrame(X_filled.T,columns=df_tr.columns)\n",
    "_,_=util.show_missing_pattern(df_filled, mask, title_string='BPCA',figsize=(8,8)) \n",
    "\n"
   ]
  },
  {
   "cell_type": "markdown",
   "metadata": {},
   "source": [
    "## Demo 2: Transfer learning from training dataset, I\n",
    "\n",
    "The problem setting we wish to address here is summarized as follows.\n",
    "\n",
    "- We are given two datasets $\\mathcal{D}_{\\mathrm{train}}$ and $\\mathcal{D}_{\\mathrm{test}}$, where the former is typically much larger than the latter. \n",
    "- Both $\\mathcal{D}_{\\mathrm{train}}$ and $\\mathcal{D}_{\\mathrm{test}}$ may have missing entries. \n",
    "- We do not have access to $\\mathcal{D}_{\\mathrm{train}}$ but we do have access to the model parameter trained on $\\mathcal{D}_{\\mathrm{train}}$: $\\{ \\mathsf{W, A}, \\mathbf{\\mu}\\}$\n",
    "- **We wish to fill in missing entries of $\\mathcal{D}_{\\mathrm{test}}$ with the aid of $\\mathcal{D}_{\\mathrm{train}}$'s imputation model.**\n",
    "\n",
    "This is a very realistic problem in the medical domain. You almost alway want to leverage a large cohort from major medical institutions for your diagnoses but you typically do not have access to the data. Also, there is no established imputation approach of \"transferring\" the models trained on a different dataset. \n"
   ]
  },
  {
   "cell_type": "markdown",
   "metadata": {},
   "source": [
    "\n",
    "### Loading another dataset \n",
    "\n",
    "Now we load another data set and put it into a DataFrame named `df_te`. We see that it has a quite different missing pattern from `df_tr`."
   ]
  },
  {
   "cell_type": "code",
   "execution_count": 11,
   "metadata": {},
   "outputs": [
    {
     "data": {
      "image/png": "[encoded data removed]",
      "text/plain": [
       "<Figure size 576x576 with 1 Axes>"
      ]
     },
     "metadata": {},
     "output_type": "display_data"
    }
   ],
   "source": [
    "df_te = pd.read_csv( './data/Xte.csv')\n",
    "_,_ = util.show_missing_pattern_binary(df_te,figsize=(8,8))"
   ]
  },
  {
   "cell_type": "markdown",
   "metadata": {},
   "source": [
    "### Algorithm\n",
    "\n",
    "Here we propose two scenarios: \n",
    "\n",
    "#### (1) Reuse both $\\mathbf{\\mu}$ and $\\mathsf{W}$, assuming that $\\mathcal{D}_{\\mathrm{train}}$ and $\\mathcal{D}_{\\mathrm{test}}$ are well calibrated. \n",
    "\n",
    "Let the data matrix of $\\mathcal{D}_\\mathrm{test}$ be \n",
    "$$\n",
    "\\mathsf{X}_\\mathrm{te} \\triangleq [\\mathbf{x}^{[1]}, \\ldots, \\mathbf{x}^{[N_\\mathrm{te}]}].\n",
    "$$\n",
    "\n",
    "We run the following iterative algorithm on $\\mathcal{D}_{\\mathrm{test}}$. \n",
    "- Initialization:  $x_j = \\mu_j$ for missing entries.\n",
    "- Iteration until convergence ($n=1,\\ldots,N_\\mathrm{te}$):\n",
    "    - $\\mathbf{z}^{[n]} = [\\epsilon \\mathsf{I}_d +\\mathsf{W}^\\top\\mathsf{W}]^{-1}\\mathsf{W}^\\top (\\mathbf{x}^{[n]} - \\mathbf{\\mu})$ \n",
    "    - $x_j^{[n]} \\leftarrow [\\mathsf{W} \\mathbf{z}^{[n]}+\\mathbf{\\mu}]_j$ (missing entries)"
   ]
  },
  {
   "cell_type": "markdown",
   "metadata": {},
   "source": [
    "#### (2) Reuse only  $\\mathsf{W}$\n",
    "\n",
    "In this case, we run the following. \n",
    "\n",
    "- Initialization: $x_j = \\mu_j$ for missing entries.\n",
    "- Iteration until convergence ($n=1,\\ldots,N_\\mathrm{te}$ )\n",
    "    - $\\mathbf{z}^{[n]} = [\\epsilon \\mathsf{I}_d +\\mathsf{W}^\\top\\mathsf{W}]^{-1}\\mathsf{W}^\\top (\\mathbf{x}^{[n]} - \\mathbf{\\mu}_\\mathrm{te})$ \n",
    "    - $\\mathbf{\\mu}_\\mathrm{te} \\leftarrow \\frac{1}{N}(\\mathsf{X}_\\mathrm{te} - \\mathsf{W}\\mathsf{Z}_\\mathrm{te}) \\mathbf{1}_{N_\\mathrm{te}}$\n",
    "    - $x_j^{[n]} \\leftarrow [\\mathsf{W} \\mathbf{z}^{[n]}+\\mathbf{\\mu}_\\mathrm{te}]_j$ (missing entries)"
   ]
  },
  {
   "cell_type": "markdown",
   "metadata": {},
   "source": [
    "### Performing imputation of `df_tr`"
   ]
  },
  {
   "cell_type": "code",
   "execution_count": 12,
   "metadata": {},
   "outputs": [
    {
     "name": "stdout",
     "output_type": "stream",
     "text": [
      "#samples=278, obs.dim=35, initial latent dim=34\n",
      "\titr=0:latent space got shrunk from 34 to 32\n",
      "  50: err_L=0.00020, err_x=0.02204\n",
      " 100: err_L=0.00012, err_x=0.01065\n",
      " 150: err_L=0.00009, err_x=0.00678\n",
      " 200: err_L=0.00007, err_x=0.00486\n",
      " 250: err_L=0.00006, err_x=0.00372\n",
      " 300: err_L=0.00005, err_x=0.00297\n",
      " 350: err_L=0.00005, err_x=0.00245\n",
      " 400: err_L=0.00004, err_x=0.00206\n",
      " 450: err_L=0.00004, err_x=0.00176\n",
      " 500: err_L=0.00003, err_x=0.00152\n",
      "Finished ARD_BPCA:itr=500, err_L=3.440501484637637e-05, err_x=0.0015244658684691109\n"
     ]
    }
   ],
   "source": [
    "import bpca_impute.bpca_impute as bi\n",
    "_,param = bi.impute_bpca_ard(df_tr.to_numpy().T)\n",
    "\n",
    "W = param.get('W')\n",
    "Adiag = param.get('Adiag')\n",
    "mu = param.get('mu')\n"
   ]
  },
  {
   "cell_type": "markdown",
   "metadata": {},
   "source": [
    "### Performing transfer imputation for `df_te`"
   ]
  },
  {
   "cell_type": "code",
   "execution_count": 13,
   "metadata": {},
   "outputs": [
    {
     "name": "stdout",
     "output_type": "stream",
     "text": [
      " 100: err_L=0.00001, err_x=0.00883\n",
      " 200: err_L=0.00001, err_x=0.00418\n",
      " 300: err_L=0.00000, err_x=0.00265\n",
      " 400: err_L=0.00000, err_x=0.00189\n",
      " 500: err_L=0.00000, err_x=0.00145\n",
      " 600: err_L=0.00000, err_x=0.00116\n",
      " 700: err_L=0.00000, err_x=0.00095\n",
      " 800: err_L=0.00000, err_x=0.00080\n",
      " 900: err_L=0.00000, err_x=0.00068\n",
      "1000: err_L=0.00000, err_x=0.00059\n",
      "Finished EM_PCA transfer itr=1000,err_L=1.0210275529407966e-06,err_x=0.0005887767699171928\n"
     ]
    }
   ],
   "source": [
    "Xte_imputed, param2 =\\\n",
    "    bi.impute_transfer(df_te.to_numpy().T, W, mu=None,\n",
    "                                eps=1.e-3, itr_max=1000, \n",
    "                                err_L_th=1.e-4,err_x_th=1.e-4)\n",
    "loglik_test = param2.get('loglik')\n",
    "err_L_test = param2.get('err_L')\n",
    "err_x_test = param2.get('err_x')\n",
    "Z_test = param2.get('Z')"
   ]
  },
  {
   "cell_type": "code",
   "execution_count": 14,
   "metadata": {},
   "outputs": [
    {
     "data": {
      "image/png": "[encoded data removed]",
      "text/plain": [
       "<Figure size 648x216 with 3 Axes>"
      ]
     },
     "metadata": {},
     "output_type": "display_data"
    }
   ],
   "source": [
    "import matplotlib.pyplot as plt\n",
    "import seaborn as sb; sb.set()\n",
    "fig,ax = plt.subplots(1,3,figsize=(9,3),sharex=True)\n",
    "itr_sequence = 1+ np.arange(0,len(loglik_test)) \n",
    "itr0 = 20                         \n",
    "ax[0].plot(itr_sequence[itr0:],loglik_test[itr0:])\n",
    "ax[0].set_title('log likelihood (L)')\n",
    "ax[0].set_xlabel('iteration')\n",
    "ax[1].plot(itr_sequence[itr0:],err_L_test[itr0:]) \n",
    "ax[1].set_title('relative error of L')\n",
    "ax[1].set_xlabel('iteration')\n",
    "ax[2].plot(itr_sequence[itr0:],err_x_test[itr0:]) \n",
    "ax[2].set_title('relative error of filled values')\n",
    "ax[2].set_xlabel('iteration')    \n",
    "fig.tight_layout()"
   ]
  },
  {
   "cell_type": "code",
   "execution_count": 15,
   "metadata": {},
   "outputs": [
    {
     "data": {
      "text/plain": [
       "(<Figure size 576x576 with 1 Axes>,\n",
       " <AxesSubplot:title={'center':'impute_transfer'}, xlabel='sample index'>)"
      ]
     },
     "execution_count": 15,
     "metadata": {},
     "output_type": "execute_result"
    },
    {
     "data": {
      "image/png": "[encoded data removed]",
      "text/plain": [
       "<Figure size 576x576 with 1 Axes>"
      ]
     },
     "metadata": {},
     "output_type": "display_data"
    }
   ],
   "source": [
    "mask = df_te.isna()\n",
    "df_filled = pd.DataFrame(Xte_imputed.T,columns=df_te.columns)\n",
    "util.show_missing_pattern(df_filled,mask, title_string='impute_transfer') \n"
   ]
  },
  {
   "cell_type": "markdown",
   "metadata": {},
   "source": [
    "## Demo 3: Transfer learning from training dataset, II\n",
    "\n",
    "In this demo, we use another dataset `cancer_reg.csv`, which has been copied in `./data/` subfolder (we thank Ms. Neelima Reddy Gade for reporting bugs). The dataset is more 'raw' than the previous data in that the dataset is not standardized. \n",
    "\n",
    "### Loading data"
   ]
  },
  {
   "cell_type": "code",
   "execution_count": 16,
   "metadata": {},
   "outputs": [
    {
     "data": {
      "text/html": [
       "<div>\n",
       "<style scoped>\n",
       "    .dataframe tbody tr th:only-of-type {\n",
       "        vertical-align: middle;\n",
       "    }\n",
       "\n",
       "    .dataframe tbody tr th {\n",
       "        vertical-align: top;\n",
       "    }\n",
       "\n",
       "    .dataframe thead th {\n",
       "        text-align: right;\n",
       "    }\n",
       "</style>\n",
       "<table border=\"1\" class=\"dataframe\">\n",
       "  <thead>\n",
       "    <tr style=\"text-align: right;\">\n",
       "      <th></th>\n",
       "      <th>avgAnnCount</th>\n",
       "      <th>avgDeathsPerYear</th>\n",
       "      <th>TARGET_deathRate</th>\n",
       "      <th>incidenceRate</th>\n",
       "      <th>medIncome</th>\n",
       "      <th>popEst2015</th>\n",
       "      <th>povertyPercent</th>\n",
       "      <th>studyPerCap</th>\n",
       "      <th>binnedInc</th>\n",
       "      <th>MedianAge</th>\n",
       "      <th>...</th>\n",
       "      <th>PctPrivateCoverageAlone</th>\n",
       "      <th>PctEmpPrivCoverage</th>\n",
       "      <th>PctPublicCoverage</th>\n",
       "      <th>PctPublicCoverageAlone</th>\n",
       "      <th>PctWhite</th>\n",
       "      <th>PctBlack</th>\n",
       "      <th>PctAsian</th>\n",
       "      <th>PctOtherRace</th>\n",
       "      <th>PctMarriedHouseholds</th>\n",
       "      <th>BirthRate</th>\n",
       "    </tr>\n",
       "  </thead>\n",
       "  <tbody>\n",
       "    <tr>\n",
       "      <th>0</th>\n",
       "      <td>1397.000000</td>\n",
       "      <td>469</td>\n",
       "      <td>164.9</td>\n",
       "      <td>489.800000</td>\n",
       "      <td>61898</td>\n",
       "      <td>260131</td>\n",
       "      <td>11.2</td>\n",
       "      <td>499.748204</td>\n",
       "      <td>(61494.5, 125635]</td>\n",
       "      <td>39.3</td>\n",
       "      <td>...</td>\n",
       "      <td>NaN</td>\n",
       "      <td>41.6</td>\n",
       "      <td>32.9</td>\n",
       "      <td>14.0</td>\n",
       "      <td>81.780529</td>\n",
       "      <td>2.594728</td>\n",
       "      <td>4.821857</td>\n",
       "      <td>1.843479</td>\n",
       "      <td>52.856076</td>\n",
       "      <td>6.118831</td>\n",
       "    </tr>\n",
       "    <tr>\n",
       "      <th>1</th>\n",
       "      <td>173.000000</td>\n",
       "      <td>70</td>\n",
       "      <td>161.3</td>\n",
       "      <td>411.600000</td>\n",
       "      <td>48127</td>\n",
       "      <td>43269</td>\n",
       "      <td>18.6</td>\n",
       "      <td>23.111234</td>\n",
       "      <td>(48021.6, 51046.4]</td>\n",
       "      <td>33.0</td>\n",
       "      <td>...</td>\n",
       "      <td>53.8</td>\n",
       "      <td>43.6</td>\n",
       "      <td>31.1</td>\n",
       "      <td>15.3</td>\n",
       "      <td>89.228509</td>\n",
       "      <td>0.969102</td>\n",
       "      <td>2.246233</td>\n",
       "      <td>3.741352</td>\n",
       "      <td>45.372500</td>\n",
       "      <td>4.333096</td>\n",
       "    </tr>\n",
       "    <tr>\n",
       "      <th>2</th>\n",
       "      <td>102.000000</td>\n",
       "      <td>50</td>\n",
       "      <td>174.7</td>\n",
       "      <td>349.700000</td>\n",
       "      <td>49348</td>\n",
       "      <td>21026</td>\n",
       "      <td>14.6</td>\n",
       "      <td>47.560164</td>\n",
       "      <td>(48021.6, 51046.4]</td>\n",
       "      <td>45.0</td>\n",
       "      <td>...</td>\n",
       "      <td>43.5</td>\n",
       "      <td>34.9</td>\n",
       "      <td>42.1</td>\n",
       "      <td>21.1</td>\n",
       "      <td>90.922190</td>\n",
       "      <td>0.739673</td>\n",
       "      <td>0.465898</td>\n",
       "      <td>2.747358</td>\n",
       "      <td>54.444868</td>\n",
       "      <td>3.729488</td>\n",
       "    </tr>\n",
       "    <tr>\n",
       "      <th>3</th>\n",
       "      <td>427.000000</td>\n",
       "      <td>202</td>\n",
       "      <td>194.8</td>\n",
       "      <td>430.400000</td>\n",
       "      <td>44243</td>\n",
       "      <td>75882</td>\n",
       "      <td>17.1</td>\n",
       "      <td>342.637253</td>\n",
       "      <td>(42724.4, 45201]</td>\n",
       "      <td>42.8</td>\n",
       "      <td>...</td>\n",
       "      <td>40.3</td>\n",
       "      <td>35.0</td>\n",
       "      <td>45.3</td>\n",
       "      <td>25.0</td>\n",
       "      <td>91.744686</td>\n",
       "      <td>0.782626</td>\n",
       "      <td>1.161359</td>\n",
       "      <td>1.362643</td>\n",
       "      <td>51.021514</td>\n",
       "      <td>4.603841</td>\n",
       "    </tr>\n",
       "    <tr>\n",
       "      <th>4</th>\n",
       "      <td>57.000000</td>\n",
       "      <td>26</td>\n",
       "      <td>144.4</td>\n",
       "      <td>350.100000</td>\n",
       "      <td>49955</td>\n",
       "      <td>10321</td>\n",
       "      <td>12.5</td>\n",
       "      <td>0.000000</td>\n",
       "      <td>(48021.6, 51046.4]</td>\n",
       "      <td>48.3</td>\n",
       "      <td>...</td>\n",
       "      <td>43.9</td>\n",
       "      <td>35.1</td>\n",
       "      <td>44.0</td>\n",
       "      <td>22.7</td>\n",
       "      <td>94.104024</td>\n",
       "      <td>0.270192</td>\n",
       "      <td>0.665830</td>\n",
       "      <td>0.492135</td>\n",
       "      <td>54.027460</td>\n",
       "      <td>6.796657</td>\n",
       "    </tr>\n",
       "    <tr>\n",
       "      <th>...</th>\n",
       "      <td>...</td>\n",
       "      <td>...</td>\n",
       "      <td>...</td>\n",
       "      <td>...</td>\n",
       "      <td>...</td>\n",
       "      <td>...</td>\n",
       "      <td>...</td>\n",
       "      <td>...</td>\n",
       "      <td>...</td>\n",
       "      <td>...</td>\n",
       "      <td>...</td>\n",
       "      <td>...</td>\n",
       "      <td>...</td>\n",
       "      <td>...</td>\n",
       "      <td>...</td>\n",
       "      <td>...</td>\n",
       "      <td>...</td>\n",
       "      <td>...</td>\n",
       "      <td>...</td>\n",
       "      <td>...</td>\n",
       "      <td>...</td>\n",
       "    </tr>\n",
       "    <tr>\n",
       "      <th>3042</th>\n",
       "      <td>1962.667684</td>\n",
       "      <td>15</td>\n",
       "      <td>149.6</td>\n",
       "      <td>453.549422</td>\n",
       "      <td>46961</td>\n",
       "      <td>6343</td>\n",
       "      <td>12.4</td>\n",
       "      <td>0.000000</td>\n",
       "      <td>(45201, 48021.6]</td>\n",
       "      <td>44.2</td>\n",
       "      <td>...</td>\n",
       "      <td>54.9</td>\n",
       "      <td>44.6</td>\n",
       "      <td>31.7</td>\n",
       "      <td>13.2</td>\n",
       "      <td>90.280811</td>\n",
       "      <td>3.837754</td>\n",
       "      <td>0.327613</td>\n",
       "      <td>1.700468</td>\n",
       "      <td>51.063830</td>\n",
       "      <td>7.773512</td>\n",
       "    </tr>\n",
       "    <tr>\n",
       "      <th>3043</th>\n",
       "      <td>1962.667684</td>\n",
       "      <td>43</td>\n",
       "      <td>150.1</td>\n",
       "      <td>453.549422</td>\n",
       "      <td>48609</td>\n",
       "      <td>37118</td>\n",
       "      <td>18.8</td>\n",
       "      <td>377.175494</td>\n",
       "      <td>(48021.6, 51046.4]</td>\n",
       "      <td>30.4</td>\n",
       "      <td>...</td>\n",
       "      <td>53.3</td>\n",
       "      <td>48.6</td>\n",
       "      <td>28.8</td>\n",
       "      <td>17.7</td>\n",
       "      <td>75.706245</td>\n",
       "      <td>2.326771</td>\n",
       "      <td>4.044920</td>\n",
       "      <td>14.130288</td>\n",
       "      <td>52.007937</td>\n",
       "      <td>8.186470</td>\n",
       "    </tr>\n",
       "    <tr>\n",
       "      <th>3044</th>\n",
       "      <td>1962.667684</td>\n",
       "      <td>46</td>\n",
       "      <td>153.9</td>\n",
       "      <td>453.549422</td>\n",
       "      <td>51144</td>\n",
       "      <td>34536</td>\n",
       "      <td>15.0</td>\n",
       "      <td>1968.959926</td>\n",
       "      <td>(51046.4, 54545.6]</td>\n",
       "      <td>30.9</td>\n",
       "      <td>...</td>\n",
       "      <td>52.6</td>\n",
       "      <td>47.8</td>\n",
       "      <td>26.6</td>\n",
       "      <td>16.8</td>\n",
       "      <td>87.961629</td>\n",
       "      <td>2.313188</td>\n",
       "      <td>1.316472</td>\n",
       "      <td>5.680705</td>\n",
       "      <td>55.153949</td>\n",
       "      <td>7.809192</td>\n",
       "    </tr>\n",
       "    <tr>\n",
       "      <th>3045</th>\n",
       "      <td>1962.667684</td>\n",
       "      <td>52</td>\n",
       "      <td>175.0</td>\n",
       "      <td>453.549422</td>\n",
       "      <td>50745</td>\n",
       "      <td>25609</td>\n",
       "      <td>13.3</td>\n",
       "      <td>0.000000</td>\n",
       "      <td>(48021.6, 51046.4]</td>\n",
       "      <td>39.0</td>\n",
       "      <td>...</td>\n",
       "      <td>56.3</td>\n",
       "      <td>49.6</td>\n",
       "      <td>29.5</td>\n",
       "      <td>14.0</td>\n",
       "      <td>92.905681</td>\n",
       "      <td>1.176562</td>\n",
       "      <td>0.244632</td>\n",
       "      <td>2.131790</td>\n",
       "      <td>58.484232</td>\n",
       "      <td>7.582938</td>\n",
       "    </tr>\n",
       "    <tr>\n",
       "      <th>3046</th>\n",
       "      <td>1962.667684</td>\n",
       "      <td>48</td>\n",
       "      <td>213.6</td>\n",
       "      <td>453.549422</td>\n",
       "      <td>41193</td>\n",
       "      <td>37030</td>\n",
       "      <td>13.9</td>\n",
       "      <td>0.000000</td>\n",
       "      <td>(40362.7, 42724.4]</td>\n",
       "      <td>26.2</td>\n",
       "      <td>...</td>\n",
       "      <td>60.3</td>\n",
       "      <td>22.9</td>\n",
       "      <td>25.1</td>\n",
       "      <td>12.6</td>\n",
       "      <td>70.098132</td>\n",
       "      <td>16.590100</td>\n",
       "      <td>3.177753</td>\n",
       "      <td>1.356457</td>\n",
       "      <td>56.040242</td>\n",
       "      <td>8.981723</td>\n",
       "    </tr>\n",
       "  </tbody>\n",
       "</table>\n",
       "<p>3047 rows × 34 columns</p>\n",
       "</div>"
      ],
      "text/plain": [
       "      avgAnnCount  avgDeathsPerYear  TARGET_deathRate  incidenceRate  \\\n",
       "0     1397.000000               469             164.9     489.800000   \n",
       "1      173.000000                70             161.3     411.600000   \n",
       "2      102.000000                50             174.7     349.700000   \n",
       "3      427.000000               202             194.8     430.400000   \n",
       "4       57.000000                26             144.4     350.100000   \n",
       "...           ...               ...               ...            ...   \n",
       "3042  1962.667684                15             149.6     453.549422   \n",
       "3043  1962.667684                43             150.1     453.549422   \n",
       "3044  1962.667684                46             153.9     453.549422   \n",
       "3045  1962.667684                52             175.0     453.549422   \n",
       "3046  1962.667684                48             213.6     453.549422   \n",
       "\n",
       "      medIncome  popEst2015  povertyPercent  studyPerCap           binnedInc  \\\n",
       "0         61898      260131            11.2   499.748204   (61494.5, 125635]   \n",
       "1         48127       43269            18.6    23.111234  (48021.6, 51046.4]   \n",
       "2         49348       21026            14.6    47.560164  (48021.6, 51046.4]   \n",
       "3         44243       75882            17.1   342.637253    (42724.4, 45201]   \n",
       "4         49955       10321            12.5     0.000000  (48021.6, 51046.4]   \n",
       "...         ...         ...             ...          ...                 ...   \n",
       "3042      46961        6343            12.4     0.000000    (45201, 48021.6]   \n",
       "3043      48609       37118            18.8   377.175494  (48021.6, 51046.4]   \n",
       "3044      51144       34536            15.0  1968.959926  (51046.4, 54545.6]   \n",
       "3045      50745       25609            13.3     0.000000  (48021.6, 51046.4]   \n",
       "3046      41193       37030            13.9     0.000000  (40362.7, 42724.4]   \n",
       "\n",
       "      MedianAge  ...  PctPrivateCoverageAlone  PctEmpPrivCoverage  \\\n",
       "0          39.3  ...                      NaN                41.6   \n",
       "1          33.0  ...                     53.8                43.6   \n",
       "2          45.0  ...                     43.5                34.9   \n",
       "3          42.8  ...                     40.3                35.0   \n",
       "4          48.3  ...                     43.9                35.1   \n",
       "...         ...  ...                      ...                 ...   \n",
       "3042       44.2  ...                     54.9                44.6   \n",
       "3043       30.4  ...                     53.3                48.6   \n",
       "3044       30.9  ...                     52.6                47.8   \n",
       "3045       39.0  ...                     56.3                49.6   \n",
       "3046       26.2  ...                     60.3                22.9   \n",
       "\n",
       "     PctPublicCoverage  PctPublicCoverageAlone   PctWhite   PctBlack  \\\n",
       "0                 32.9                    14.0  81.780529   2.594728   \n",
       "1                 31.1                    15.3  89.228509   0.969102   \n",
       "2                 42.1                    21.1  90.922190   0.739673   \n",
       "3                 45.3                    25.0  91.744686   0.782626   \n",
       "4                 44.0                    22.7  94.104024   0.270192   \n",
       "...                ...                     ...        ...        ...   \n",
       "3042              31.7                    13.2  90.280811   3.837754   \n",
       "3043              28.8                    17.7  75.706245   2.326771   \n",
       "3044              26.6                    16.8  87.961629   2.313188   \n",
       "3045              29.5                    14.0  92.905681   1.176562   \n",
       "3046              25.1                    12.6  70.098132  16.590100   \n",
       "\n",
       "      PctAsian  PctOtherRace  PctMarriedHouseholds  BirthRate  \n",
       "0     4.821857      1.843479             52.856076   6.118831  \n",
       "1     2.246233      3.741352             45.372500   4.333096  \n",
       "2     0.465898      2.747358             54.444868   3.729488  \n",
       "3     1.161359      1.362643             51.021514   4.603841  \n",
       "4     0.665830      0.492135             54.027460   6.796657  \n",
       "...        ...           ...                   ...        ...  \n",
       "3042  0.327613      1.700468             51.063830   7.773512  \n",
       "3043  4.044920     14.130288             52.007937   8.186470  \n",
       "3044  1.316472      5.680705             55.153949   7.809192  \n",
       "3045  0.244632      2.131790             58.484232   7.582938  \n",
       "3046  3.177753      1.356457             56.040242   8.981723  \n",
       "\n",
       "[3047 rows x 34 columns]"
      ]
     },
     "execution_count": 16,
     "metadata": {},
     "output_type": "execute_result"
    }
   ],
   "source": [
    "# Loading data\n",
    "import pandas as pd\n",
    "df_data = pd.read_csv(\"./data/cancer_reg.csv\",encoding='latin-1')\n",
    "df_data"
   ]
  },
  {
   "cell_type": "markdown",
   "metadata": {},
   "source": [
    "### Looking at how missing entries are distributed\n",
    "\n",
    "Let us look at how missing entires are distributed in the data. As seen below, there are $N=3047$ samples in the dataset. A variable named `PctSomeCol18_24` has 2285 missing values, which accounts for 75\\% of the total samples. We should probably drop variables where the majority is missing, but let us use all the variables as-is for illustration purposes.\n",
    "\n",
    "In the below, `show_missing_pattern_binary()` is used to visualize the missing pattern."
   ]
  },
  {
   "cell_type": "code",
   "execution_count": 17,
   "metadata": {},
   "outputs": [
    {
     "data": {
      "text/plain": [
       "(3047, 34)"
      ]
     },
     "metadata": {},
     "output_type": "display_data"
    },
    {
     "data": {
      "text/plain": [
       "avgAnnCount                   0\n",
       "avgDeathsPerYear              0\n",
       "TARGET_deathRate              0\n",
       "incidenceRate                 0\n",
       "medIncome                     0\n",
       "popEst2015                    0\n",
       "povertyPercent                0\n",
       "studyPerCap                   0\n",
       "binnedInc                     0\n",
       "MedianAge                     0\n",
       "MedianAgeMale                 0\n",
       "MedianAgeFemale               0\n",
       "Geography                     0\n",
       "AvgHouseholdSize              0\n",
       "PercentMarried                0\n",
       "PctNoHS18_24                  0\n",
       "PctHS18_24                    0\n",
       "PctSomeCol18_24            2285\n",
       "PctBachDeg18_24               0\n",
       "PctHS25_Over                  0\n",
       "PctBachDeg25_Over             0\n",
       "PctEmployed16_Over          152\n",
       "PctUnemployed16_Over          0\n",
       "PctPrivateCoverage            0\n",
       "PctPrivateCoverageAlone     609\n",
       "PctEmpPrivCoverage            0\n",
       "PctPublicCoverage             0\n",
       "PctPublicCoverageAlone        0\n",
       "PctWhite                      0\n",
       "PctBlack                      0\n",
       "PctAsian                      0\n",
       "PctOtherRace                  0\n",
       "PctMarriedHouseholds          0\n",
       "BirthRate                     0\n",
       "dtype: int64"
      ]
     },
     "execution_count": 17,
     "metadata": {},
     "output_type": "execute_result"
    }
   ],
   "source": [
    "display(df_data.shape)\n",
    "df_data.isna().sum()"
   ]
  },
  {
   "cell_type": "code",
   "execution_count": 18,
   "metadata": {},
   "outputs": [
    {
     "name": "stdout",
     "output_type": "stream",
     "text": [
      "Wall time: 827 ms\n"
     ]
    },
    {
     "data": {
      "image/png": "[encoded data removed]",
      "text/plain": [
       "<Figure size 576x576 with 1 Axes>"
      ]
     },
     "metadata": {},
     "output_type": "display_data"
    }
   ],
   "source": [
    "%%time\n",
    "import bpca_impute.bpca_impute_util as util\n",
    "_,_ = util.show_missing_pattern_binary(df_data,figsize=(8,8))"
   ]
  },
  {
   "cell_type": "markdown",
   "metadata": {},
   "source": [
    "### Spliting dataset into training and test"
   ]
  },
  {
   "cell_type": "code",
   "execution_count": 19,
   "metadata": {},
   "outputs": [],
   "source": [
    "# Spliting the data into training and test\n",
    "from sklearn.model_selection import train_test_split\n",
    "y = df_data.TARGET_deathRate\n",
    "X = df_data.drop(['TARGET_deathRate'], axis=1).\\\n",
    "    select_dtypes(exclude=['object'])\n",
    "X_train, X_test, y_train, y_test = \\\n",
    "    train_test_split(X, y, train_size=0.8, test_size=0.2,random_state=0)"
   ]
  },
  {
   "cell_type": "markdown",
   "metadata": {},
   "source": [
    "### Standardization of the data matrix\n",
    "\n",
    "\n",
    "In general, most of teh data imputation methods leverage the relationship between the variables to infer the value of missing entries. In inferring the relationship, the relative scale of the variables matters very much. So, **whenever possible, it is strongly recommended to standardize the data matrix before applying data imputation methods.**\n",
    "\n",
    "Numpy's `np.nanmean()` and `np.nanstd()` come in handy for standardization of data matrices with missing entries."
   ]
  },
  {
   "cell_type": "code",
   "execution_count": 20,
   "metadata": {},
   "outputs": [],
   "source": [
    "import numpy as np\n",
    "vnames = X_train.columns\n",
    "Xtr = X_train.to_numpy().T\n",
    "m0 = np.nanmean(Xtr,axis=1).reshape(-1,1)\n",
    "std0 = np.nanstd(Xtr,axis=1).reshape(-1,1)\n",
    "\n",
    "Xtr = (Xtr - m0)/std0    \n",
    "Xte = X_test.to_numpy().T\n",
    "Xte = (Xte - m0)/std0   "
   ]
  },
  {
   "cell_type": "markdown",
   "metadata": {},
   "source": [
    "### Imputing training data matrix\n",
    "\n",
    "Now let us get a imputed version of the data matrix. Note that `bpca_impute` uses the column-based data format, where samples are stored in the columns, not rows. \n"
   ]
  },
  {
   "cell_type": "code",
   "execution_count": 21,
   "metadata": {},
   "outputs": [
    {
     "name": "stdout",
     "output_type": "stream",
     "text": [
      "#samples=2437, obs.dim=31, initial latent dim=30\n",
      "  50: err_L=0.03682, err_x=0.02722\n",
      " 100: err_L=0.00173, err_x=0.00549\n",
      " 150: err_L=0.00103, err_x=0.00383\n",
      " 200: err_L=0.00059, err_x=0.00259\n",
      " 250: err_L=0.00038, err_x=0.00187\n",
      " 300: err_L=0.00027, err_x=0.00143\n",
      " 350: err_L=0.00021, err_x=0.00115\n",
      " 400: err_L=0.00017, err_x=0.00095\n",
      " 450: err_L=0.00014, err_x=0.00080\n",
      " 500: err_L=0.00012, err_x=0.00069\n",
      "Finished ARD_BPCA:itr=500, err_L=0.00012132951469058195, err_x=0.0006893698199007276\n"
     ]
    }
   ],
   "source": [
    "import bpca_impute.bpca_impute as bpca    \n",
    "Xtr_filled,param = bpca.impute_bpca_ard(Xtr)\n",
    "\n",
    "W = param.get('W')\n",
    "Adiag = param.get('Adiag')\n",
    "mu = param.get('mu')"
   ]
  },
  {
   "cell_type": "markdown",
   "metadata": {},
   "source": [
    "### 'Transferring' the learnings to test data\n",
    "\n",
    "Here we consider a bit extreme case: We have only one test sample containing missing entries as shown below. We want to impute the missing entry using `bpca.impute_transfer()`. \n",
    "\n",
    "One important note here is that, due to the nature of the algorithm, `mu` must be provided if any of the variables in the test dataset is all nan. This is actually the case here. So,\n",
    "```python\n",
    "import bpca_impute.bpca_impute as bpca\n",
    "Xte_imputed, param2 = bpca.impute_transfer(xsingle, W, mu=None)\n",
    "```\n",
    "will produce a \"ValueError: mu cannot be None when N(#samples)=1\".\n"
   ]
  },
  {
   "cell_type": "code",
   "execution_count": 22,
   "metadata": {},
   "outputs": [
    {
     "data": {
      "text/plain": [
       "avgAnnCount               -0.455781\n",
       "avgDeathsPerYear          -0.396331\n",
       "incidenceRate             -0.821846\n",
       "medIncome                 -0.096754\n",
       "popEst2015                -0.348993\n",
       "povertyPercent            -1.058044\n",
       "studyPerCap               -0.284021\n",
       "MedianAge                  0.050788\n",
       "MedianAgeMale              1.241373\n",
       "MedianAgeFemale            1.442579\n",
       "AvgHouseholdSize          -0.816912\n",
       "PercentMarried             2.172731\n",
       "PctNoHS18_24              -0.927322\n",
       "PctHS18_24                 0.378930\n",
       "PctSomeCol18_24                 NaN\n",
       "PctBachDeg18_24            0.544681\n",
       "PctHS25_Over               0.039569\n",
       "PctBachDeg25_Over          0.903616\n",
       "PctEmployed16_Over         1.294367\n",
       "PctUnemployed16_Over      -1.952125\n",
       "PctPrivateCoverage         1.382832\n",
       "PctPrivateCoverageAlone    0.838112\n",
       "PctEmpPrivCoverage         0.051838\n",
       "PctPublicCoverage         -0.574103\n",
       "PctPublicCoverageAlone    -1.323775\n",
       "PctWhite                   0.589695\n",
       "PctBlack                  -0.538843\n",
       "PctAsian                  -0.010801\n",
       "PctOtherRace              -0.406495\n",
       "PctMarriedHouseholds       1.455699\n",
       "BirthRate                 -0.788574\n",
       "dtype: float64"
      ]
     },
     "execution_count": 22,
     "metadata": {},
     "output_type": "execute_result"
    }
   ],
   "source": [
    "# Picking a single sample \n",
    "xsingle = Xte[:,0] # this is 1D vector\n",
    "pd.Series(xsingle,vnames)"
   ]
  },
  {
   "cell_type": "code",
   "execution_count": 23,
   "metadata": {},
   "outputs": [
    {
     "name": "stdout",
     "output_type": "stream",
     "text": [
      " 100: err_L=0.00039, err_x=0.00698\n",
      " 200: err_L=0.00010, err_x=0.00234\n",
      " 300: err_L=0.00002, err_x=0.00101\n",
      " 400: err_L=0.00001, err_x=0.00048\n",
      " 500: err_L=0.00000, err_x=0.00023\n",
      " 600: err_L=0.00000, err_x=0.00012\n",
      "Finished EM_PCA transfer itr=621,err_L=3.007040099384293e-07,err_x=9.93876494327723e-05\n"
     ]
    }
   ],
   "source": [
    "# performing transfer\n",
    "import bpca_impute.bpca_impute as bpca\n",
    "Xte_imputed, param2 = bpca.impute_transfer(xsingle, W, mu=mu)"
   ]
  },
  {
   "cell_type": "markdown",
   "metadata": {},
   "source": [
    "### Mapping back to the original scale\n",
    "\n",
    "Here is a comparison between the imputed sample and the original."
   ]
  },
  {
   "cell_type": "code",
   "execution_count": 24,
   "metadata": {},
   "outputs": [
    {
     "data": {
      "text/plain": [
       "avgAnnCount                   17.000000\n",
       "avgDeathsPerYear               6.000000\n",
       "incidenceRate                405.200000\n",
       "medIncome                  45710.000000\n",
       "popEst2015                  2359.000000\n",
       "povertyPercent                10.200000\n",
       "studyPerCap                    0.000000\n",
       "MedianAge                     47.600000\n",
       "MedianAgeMale                 46.100000\n",
       "MedianAgeFemale               49.800000\n",
       "AvgHouseholdSize               2.140000\n",
       "PercentMarried                66.700000\n",
       "PctNoHS18_24                  10.800000\n",
       "PctHS18_24                    38.400000\n",
       "PctSomeCol18_24               35.505979\n",
       "PctBachDeg18_24                8.600000\n",
       "PctHS25_Over                  35.100000\n",
       "PctBachDeg25_Over             18.100000\n",
       "PctEmployed16_Over            64.700000\n",
       "PctUnemployed16_Over           1.200000\n",
       "PctPrivateCoverage            78.800000\n",
       "PctPrivateCoverageAlone       56.700000\n",
       "PctEmpPrivCoverage            41.600000\n",
       "PctPublicCoverage             31.900000\n",
       "PctPublicCoverageAlone        11.300000\n",
       "PctWhite                      93.250748\n",
       "PctBlack                       1.324220\n",
       "PctAsian                       1.238787\n",
       "PctOtherRace                   0.555318\n",
       "PctMarriedHouseholds          60.824742\n",
       "BirthRate                      4.047619\n",
       "dtype: float64"
      ]
     },
     "execution_count": 24,
     "metadata": {},
     "output_type": "execute_result"
    }
   ],
   "source": [
    "Xte_imp_ = (Xte_imputed*std0) + m0\n",
    "pd.Series(Xte_imp_.ravel(),vnames)"
   ]
  },
  {
   "cell_type": "code",
   "execution_count": 25,
   "metadata": {},
   "outputs": [
    {
     "data": {
      "text/plain": [
       "avgAnnCount                   17.000000\n",
       "avgDeathsPerYear               6.000000\n",
       "incidenceRate                405.200000\n",
       "medIncome                  45710.000000\n",
       "popEst2015                  2359.000000\n",
       "povertyPercent                10.200000\n",
       "studyPerCap                    0.000000\n",
       "MedianAge                     47.600000\n",
       "MedianAgeMale                 46.100000\n",
       "MedianAgeFemale               49.800000\n",
       "AvgHouseholdSize               2.140000\n",
       "PercentMarried                66.700000\n",
       "PctNoHS18_24                  10.800000\n",
       "PctHS18_24                    38.400000\n",
       "PctSomeCol18_24                     NaN\n",
       "PctBachDeg18_24                8.600000\n",
       "PctHS25_Over                  35.100000\n",
       "PctBachDeg25_Over             18.100000\n",
       "PctEmployed16_Over            64.700000\n",
       "PctUnemployed16_Over           1.200000\n",
       "PctPrivateCoverage            78.800000\n",
       "PctPrivateCoverageAlone       56.700000\n",
       "PctEmpPrivCoverage            41.600000\n",
       "PctPublicCoverage             31.900000\n",
       "PctPublicCoverageAlone        11.300000\n",
       "PctWhite                      93.250748\n",
       "PctBlack                       1.324220\n",
       "PctAsian                       1.238787\n",
       "PctOtherRace                   0.555318\n",
       "PctMarriedHouseholds          60.824742\n",
       "BirthRate                      4.047619\n",
       "Name: 453, dtype: float64"
      ]
     },
     "execution_count": 25,
     "metadata": {},
     "output_type": "execute_result"
    }
   ],
   "source": [
    "X_test.iloc[0,:]"
   ]
  }
 ],
 "metadata": {
  "interpreter": {
   "hash": "7bcc7989935e590c570551285d22a893f1bbecf90ee92cbdb352e18f029f6a26"
  },
  "kernelspec": {
   "display_name": "Python 3 (ipykernel)",
   "language": "python",
   "name": "python3"
  },
  "language_info": {
   "codemirror_mode": {
    "name": "ipython",
    "version": 3
   },
   "file_extension": ".py",
   "mimetype": "text/x-python",
   "name": "python",
   "nbconvert_exporter": "python",
   "pygments_lexer": "ipython3",
   "version": "3.7.10"
  }
 },
 "nbformat": 4,
 "nbformat_minor": 4
}
